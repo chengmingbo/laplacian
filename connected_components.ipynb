{
 "cells": [
  {
   "cell_type": "code",
   "execution_count": 15,
   "id": "daef8b86-a6d6-4960-bc0a-96c8765553e5",
   "metadata": {
    "tags": []
   },
   "outputs": [],
   "source": [
    "import numpy as np\n",
    "import networkx as nx\n",
    "import matplotlib.pyplot as plt"
   ]
  },
  {
   "cell_type": "code",
   "execution_count": 16,
   "id": "735d7604-c3ba-43ab-bbdf-e2375172d84b",
   "metadata": {
    "tags": []
   },
   "outputs": [],
   "source": [
    "# adjacency matrix\n",
    "A = np.array([\n",
    "             [ 0, 1, 0, 0, 0, 0, 0, 0],\n",
    "             [1, 0, 0, 0, 0, 0, 0, 0],\n",
    "             [ 0, 0, 0, 1, 1, 0, 0, 0],\n",
    "             [ 0, 0, 1, 0, 1, 1, 0, 0],\n",
    "             [ 0, 0, 1, 1, 0, 0, 0, 0],\n",
    "             [ 0, 0, 0, 1, 0, 0, 0, 0],\n",
    "             [ 0, 0, 0, 0, 0, 0, 0, 1],\n",
    "             [ 0, 0, 0, 0, 0, 0, 1, 0]\n",
    "             ])"
   ]
  },
  {
   "cell_type": "code",
   "execution_count": 29,
   "id": "4b3c3df8-a15f-45f8-9e67-8b49fbb2b223",
   "metadata": {
    "tags": []
   },
   "outputs": [
    {
     "data": {
      "image/png": "[encoded data removed]",
      "text/plain": [
       "<Figure size 640x480 with 1 Axes>"
      ]
     },
     "metadata": {},
     "output_type": "display_data"
    }
   ],
   "source": [
    "# the graph has 3 connected components\n",
    "g = nx.from_numpy_array(A)\n",
    "nx.draw_networkx(g)"
   ]
  },
  {
   "cell_type": "code",
   "execution_count": 30,
   "id": "b291b47f-f513-4456-b022-b7460096e905",
   "metadata": {
    "tags": []
   },
   "outputs": [],
   "source": [
    "#graph laplacian\n",
    "L = np.array([\n",
    "             [ 1, -1, 0, 0, 0, 0, 0, 0],\n",
    "             [-1, 1, 0, 0, 0, 0, 0, 0],\n",
    "             [ 0, 0, 2, -1, -1, 0, 0, 0],\n",
    "             [ 0, 0, -1, 3, -1, -1, 0, 0],\n",
    "             [ 0, 0, -1, -1, 2, 0, 0, 0],\n",
    "             [ 0, 0, 0, -1, 0, 1, 0, 0],\n",
    "             [ 0, 0, 0, 0, 0, 0, 2, -1],\n",
    "             [ 0, 0, 0, 0, 0, 0, -1, 1]\n",
    "             ])"
   ]
  },
  {
   "cell_type": "code",
   "execution_count": 31,
   "id": "184747a9-2a70-4c3e-ad9f-a25d0e831fb8",
   "metadata": {
    "tags": []
   },
   "outputs": [],
   "source": [
    "eigenvalues, eigenvectors = np.linalg.eig(L)\n",
    "# Sort eigenvalues and corresponding eigenvectors\n",
    "sorted_indices = np.argsort(eigenvalues)\n",
    "eigenvalues = eigenvalues[sorted_indices]\n",
    "eigenvectors = eigenvectors[:, sorted_indices]\n",
    "#eigenvalues, eigenvectors"
   ]
  },
  {
   "cell_type": "code",
   "execution_count": 32,
   "id": "51910a12-a01d-4591-b4c2-92bef92c63cd",
   "metadata": {
    "tags": []
   },
   "outputs": [
    {
     "data": {
      "text/plain": [
       "<matplotlib.image.AxesImage at 0x15508502ae30>"
      ]
     },
     "execution_count": 32,
     "metadata": {},
     "output_type": "execute_result"
    },
    {
     "data": {
      "image/png": "[encoded data removed]",
      "text/plain": [
       "<Figure size 640x480 with 1 Axes>"
      ]
     },
     "metadata": {},
     "output_type": "display_data"
    }
   ],
   "source": [
    "plt.imshow(eigenvectors)"
   ]
  },
  {
   "cell_type": "code",
   "execution_count": 34,
   "id": "0d1c4dbc-e278-4415-85e4-2d6126de010b",
   "metadata": {
    "tags": []
   },
   "outputs": [
    {
     "data": {
      "text/plain": [
       "array([0., 0., 0., 1., 2., 3., 3., 4.])"
      ]
     },
     "execution_count": 34,
     "metadata": {},
     "output_type": "execute_result"
    }
   ],
   "source": [
    "np.round(eigenvalues)"
   ]
  },
  {
   "cell_type": "code",
   "execution_count": 35,
   "id": "5b31e55a-15c0-483d-b844-12532fce60c9",
   "metadata": {
    "tags": []
   },
   "outputs": [
    {
     "data": {
      "text/plain": [
       "array([[0.71, 0.  , 0.  ],\n",
       "       [0.71, 0.  , 0.  ],\n",
       "       [0.  , 0.5 , 0.  ],\n",
       "       [0.  , 0.5 , 0.  ],\n",
       "       [0.  , 0.5 , 0.  ],\n",
       "       [0.  , 0.5 , 0.  ],\n",
       "       [0.  , 0.  , 0.53],\n",
       "       [0.  , 0.  , 0.85]])"
      ]
     },
     "execution_count": 35,
     "metadata": {},
     "output_type": "execute_result"
    }
   ],
   "source": [
    "np.round(eigenvectors[:, :3], 2)"
   ]
  },
  {
   "cell_type": "code",
   "execution_count": null,
   "id": "54ae476b-2f89-4c03-af89-106cb628b17c",
   "metadata": {},
   "outputs": [],
   "source": []
  },
  {
   "cell_type": "code",
   "execution_count": null,
   "id": "0d72599c-ab93-4957-854a-257b1842afa7",
   "metadata": {},
   "outputs": [],
   "source": []
  },
  {
   "cell_type": "code",
   "execution_count": null,
   "id": "fc7840a0-d323-4898-b0fe-f413c2d83ca8",
   "metadata": {},
   "outputs": [],
   "source": []
  },
  {
   "cell_type": "code",
   "execution_count": null,
   "id": "b9cf1a22-74ff-43f0-8912-aeac277ae13e",
   "metadata": {},
   "outputs": [],
   "source": []
  },
  {
   "cell_type": "code",
   "execution_count": null,
   "id": "0ca853ab-53ef-4d09-ae16-3a63145280fb",
   "metadata": {},
   "outputs": [],
   "source": []
  },
  {
   "cell_type": "code",
   "execution_count": null,
   "id": "e6e12279-23e1-4d53-8808-220212b0d277",
   "metadata": {},
   "outputs": [],
   "source": []
  }
 ],
 "metadata": {
  "kernelspec": {
   "display_name": "Python 3 (ipykernel)",
   "language": "python",
   "name": "python3"
  },
  "language_info": {
   "codemirror_mode": {
    "name": "ipython",
    "version": 3
   },
   "file_extension": ".py",
   "mimetype": "text/x-python",
   "name": "python",
   "nbconvert_exporter": "python",
   "pygments_lexer": "ipython3",
   "version": "3.10.8"
  }
 },
 "nbformat": 4,
 "nbformat_minor": 5
}
